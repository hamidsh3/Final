{
  "nbformat": 4,
  "nbformat_minor": 0,
  "metadata": {
    "colab": {
      "provenance": [],
      "gpuType": "T4"
    },
    "kernelspec": {
      "name": "python3",
      "display_name": "Python 3"
    },
    "language_info": {
      "name": "python"
    },
    "accelerator": "GPU"
  },
  "cells": [
    {
      "cell_type": "code",
      "execution_count": 1,
      "metadata": {
        "colab": {
          "base_uri": "https://localhost:8080/",
          "height": 1000
        },
        "id": "olFZO7SmDLTg",
        "outputId": "55ede51e-0c60-40e5-d44a-65010b5782c2"
      },
      "outputs": [
        {
          "output_type": "stream",
          "name": "stdout",
          "text": [
            "TensorFlow Version: 2.18.0\n",
            "\n",
            "Downloading SnappFood dataset...\n",
            "Download complete.\n",
            "Dataset loaded successfully.\n",
            "\n",
            "Data preprocessing complete.\n",
            "\n",
            "Tokenization and padding complete.\n",
            "\n",
            "Data splitting complete.\n",
            "\n",
            "Model architecture created.\n"
          ]
        },
        {
          "output_type": "display_data",
          "data": {
            "text/plain": [
              "\u001b[1mModel: \"sequential\"\u001b[0m\n"
            ],
            "text/html": [
              "<pre style=\"white-space:pre;overflow-x:auto;line-height:normal;font-family:Menlo,'DejaVu Sans Mono',consolas,'Courier New',monospace\"><span style=\"font-weight: bold\">Model: \"sequential\"</span>\n",
              "</pre>\n"
            ]
          },
          "metadata": {}
        },
        {
          "output_type": "display_data",
          "data": {
            "text/plain": [
              "┏━━━━━━━━━━━━━━━━━━━━━━━━━━━━━━━━━┳━━━━━━━━━━━━━━━━━━━━━━━━┳━━━━━━━━━━━━━━━┓\n",
              "┃\u001b[1m \u001b[0m\u001b[1mLayer (type)                   \u001b[0m\u001b[1m \u001b[0m┃\u001b[1m \u001b[0m\u001b[1mOutput Shape          \u001b[0m\u001b[1m \u001b[0m┃\u001b[1m \u001b[0m\u001b[1m      Param #\u001b[0m\u001b[1m \u001b[0m┃\n",
              "┡━━━━━━━━━━━━━━━━━━━━━━━━━━━━━━━━━╇━━━━━━━━━━━━━━━━━━━━━━━━╇━━━━━━━━━━━━━━━┩\n",
              "│ embedding (\u001b[38;5;33mEmbedding\u001b[0m)           │ ?                      │   \u001b[38;5;34m0\u001b[0m (unbuilt) │\n",
              "├─────────────────────────────────┼────────────────────────┼───────────────┤\n",
              "│ conv1d (\u001b[38;5;33mConv1D\u001b[0m)                 │ ?                      │   \u001b[38;5;34m0\u001b[0m (unbuilt) │\n",
              "├─────────────────────────────────┼────────────────────────┼───────────────┤\n",
              "│ max_pooling1d (\u001b[38;5;33mMaxPooling1D\u001b[0m)    │ ?                      │             \u001b[38;5;34m0\u001b[0m │\n",
              "├─────────────────────────────────┼────────────────────────┼───────────────┤\n",
              "│ lstm (\u001b[38;5;33mLSTM\u001b[0m)                     │ ?                      │   \u001b[38;5;34m0\u001b[0m (unbuilt) │\n",
              "├─────────────────────────────────┼────────────────────────┼───────────────┤\n",
              "│ dropout (\u001b[38;5;33mDropout\u001b[0m)               │ ?                      │             \u001b[38;5;34m0\u001b[0m │\n",
              "├─────────────────────────────────┼────────────────────────┼───────────────┤\n",
              "│ dense (\u001b[38;5;33mDense\u001b[0m)                   │ ?                      │   \u001b[38;5;34m0\u001b[0m (unbuilt) │\n",
              "└─────────────────────────────────┴────────────────────────┴───────────────┘\n"
            ],
            "text/html": [
              "<pre style=\"white-space:pre;overflow-x:auto;line-height:normal;font-family:Menlo,'DejaVu Sans Mono',consolas,'Courier New',monospace\">┏━━━━━━━━━━━━━━━━━━━━━━━━━━━━━━━━━┳━━━━━━━━━━━━━━━━━━━━━━━━┳━━━━━━━━━━━━━━━┓\n",
              "┃<span style=\"font-weight: bold\"> Layer (type)                    </span>┃<span style=\"font-weight: bold\"> Output Shape           </span>┃<span style=\"font-weight: bold\">       Param # </span>┃\n",
              "┡━━━━━━━━━━━━━━━━━━━━━━━━━━━━━━━━━╇━━━━━━━━━━━━━━━━━━━━━━━━╇━━━━━━━━━━━━━━━┩\n",
              "│ embedding (<span style=\"color: #0087ff; text-decoration-color: #0087ff\">Embedding</span>)           │ ?                      │   <span style=\"color: #00af00; text-decoration-color: #00af00\">0</span> (unbuilt) │\n",
              "├─────────────────────────────────┼────────────────────────┼───────────────┤\n",
              "│ conv1d (<span style=\"color: #0087ff; text-decoration-color: #0087ff\">Conv1D</span>)                 │ ?                      │   <span style=\"color: #00af00; text-decoration-color: #00af00\">0</span> (unbuilt) │\n",
              "├─────────────────────────────────┼────────────────────────┼───────────────┤\n",
              "│ max_pooling1d (<span style=\"color: #0087ff; text-decoration-color: #0087ff\">MaxPooling1D</span>)    │ ?                      │             <span style=\"color: #00af00; text-decoration-color: #00af00\">0</span> │\n",
              "├─────────────────────────────────┼────────────────────────┼───────────────┤\n",
              "│ lstm (<span style=\"color: #0087ff; text-decoration-color: #0087ff\">LSTM</span>)                     │ ?                      │   <span style=\"color: #00af00; text-decoration-color: #00af00\">0</span> (unbuilt) │\n",
              "├─────────────────────────────────┼────────────────────────┼───────────────┤\n",
              "│ dropout (<span style=\"color: #0087ff; text-decoration-color: #0087ff\">Dropout</span>)               │ ?                      │             <span style=\"color: #00af00; text-decoration-color: #00af00\">0</span> │\n",
              "├─────────────────────────────────┼────────────────────────┼───────────────┤\n",
              "│ dense (<span style=\"color: #0087ff; text-decoration-color: #0087ff\">Dense</span>)                   │ ?                      │   <span style=\"color: #00af00; text-decoration-color: #00af00\">0</span> (unbuilt) │\n",
              "└─────────────────────────────────┴────────────────────────┴───────────────┘\n",
              "</pre>\n"
            ]
          },
          "metadata": {}
        },
        {
          "output_type": "display_data",
          "data": {
            "text/plain": [
              "\u001b[1m Total params: \u001b[0m\u001b[38;5;34m0\u001b[0m (0.00 B)\n"
            ],
            "text/html": [
              "<pre style=\"white-space:pre;overflow-x:auto;line-height:normal;font-family:Menlo,'DejaVu Sans Mono',consolas,'Courier New',monospace\"><span style=\"font-weight: bold\"> Total params: </span><span style=\"color: #00af00; text-decoration-color: #00af00\">0</span> (0.00 B)\n",
              "</pre>\n"
            ]
          },
          "metadata": {}
        },
        {
          "output_type": "display_data",
          "data": {
            "text/plain": [
              "\u001b[1m Trainable params: \u001b[0m\u001b[38;5;34m0\u001b[0m (0.00 B)\n"
            ],
            "text/html": [
              "<pre style=\"white-space:pre;overflow-x:auto;line-height:normal;font-family:Menlo,'DejaVu Sans Mono',consolas,'Courier New',monospace\"><span style=\"font-weight: bold\"> Trainable params: </span><span style=\"color: #00af00; text-decoration-color: #00af00\">0</span> (0.00 B)\n",
              "</pre>\n"
            ]
          },
          "metadata": {}
        },
        {
          "output_type": "display_data",
          "data": {
            "text/plain": [
              "\u001b[1m Non-trainable params: \u001b[0m\u001b[38;5;34m0\u001b[0m (0.00 B)\n"
            ],
            "text/html": [
              "<pre style=\"white-space:pre;overflow-x:auto;line-height:normal;font-family:Menlo,'DejaVu Sans Mono',consolas,'Courier New',monospace\"><span style=\"font-weight: bold\"> Non-trainable params: </span><span style=\"color: #00af00; text-decoration-color: #00af00\">0</span> (0.00 B)\n",
              "</pre>\n"
            ]
          },
          "metadata": {}
        },
        {
          "output_type": "stream",
          "name": "stdout",
          "text": [
            "\n",
            "Starting model training with callbacks...\n",
            "Epoch 1/20\n",
            "\u001b[1m433/433\u001b[0m \u001b[32m━━━━━━━━━━━━━━━━━━━━\u001b[0m\u001b[37m\u001b[0m \u001b[1m0s\u001b[0m 10ms/step - accuracy: 0.7000 - loss: 0.5274\n",
            "Epoch 1: val_loss improved from inf to 0.34453, saving model to best_sentiment_model.h5\n"
          ]
        },
        {
          "output_type": "stream",
          "name": "stderr",
          "text": [
            "WARNING:absl:You are saving your model as an HDF5 file via `model.save()` or `keras.saving.save_model(model)`. This file format is considered legacy. We recommend using instead the native Keras format, e.g. `model.save('my_model.keras')` or `keras.saving.save_model(model, 'my_model.keras')`. \n"
          ]
        },
        {
          "output_type": "stream",
          "name": "stdout",
          "text": [
            "\b\b\b\b\b\b\b\b\b\b\b\b\b\b\b\b\b\b\b\b\b\b\b\b\b\b\b\b\b\b\b\b\b\b\b\b\b\b\b\b\b\b\b\b\b\b\b\b\b\b\b\b\b\b\b\b\b\b\b\b\b\b\b\b\b\b\b\b\b\b\b\b\b\b\b\r\u001b[1m433/433\u001b[0m \u001b[32m━━━━━━━━━━━━━━━━━━━━\u001b[0m\u001b[37m\u001b[0m \u001b[1m13s\u001b[0m 12ms/step - accuracy: 0.7002 - loss: 0.5271 - val_accuracy: 0.8504 - val_loss: 0.3445\n",
            "Epoch 2/20\n",
            "\u001b[1m427/433\u001b[0m \u001b[32m━━━━━━━━━━━━━━━━━━━\u001b[0m\u001b[37m━\u001b[0m \u001b[1m0s\u001b[0m 8ms/step - accuracy: 0.8884 - loss: 0.2889\n",
            "Epoch 2: val_loss improved from 0.34453 to 0.34338, saving model to best_sentiment_model.h5\n"
          ]
        },
        {
          "output_type": "stream",
          "name": "stderr",
          "text": [
            "WARNING:absl:You are saving your model as an HDF5 file via `model.save()` or `keras.saving.save_model(model)`. This file format is considered legacy. We recommend using instead the native Keras format, e.g. `model.save('my_model.keras')` or `keras.saving.save_model(model, 'my_model.keras')`. \n"
          ]
        },
        {
          "output_type": "stream",
          "name": "stdout",
          "text": [
            "\b\b\b\b\b\b\b\b\b\b\b\b\b\b\b\b\b\b\b\b\b\b\b\b\b\b\b\b\b\b\b\b\b\b\b\b\b\b\b\b\b\b\b\b\b\b\b\b\b\b\b\b\b\b\b\b\b\b\b\b\b\b\b\b\b\b\b\b\b\b\b\b\b\b\r\u001b[1m433/433\u001b[0m \u001b[32m━━━━━━━━━━━━━━━━━━━━\u001b[0m\u001b[37m\u001b[0m \u001b[1m4s\u001b[0m 10ms/step - accuracy: 0.8884 - loss: 0.2889 - val_accuracy: 0.8514 - val_loss: 0.3434\n",
            "Epoch 3/20\n",
            "\u001b[1m429/433\u001b[0m \u001b[32m━━━━━━━━━━━━━━━━━━━\u001b[0m\u001b[37m━\u001b[0m \u001b[1m0s\u001b[0m 9ms/step - accuracy: 0.9300 - loss: 0.1951\n",
            "Epoch 3: val_loss did not improve from 0.34338\n",
            "\u001b[1m433/433\u001b[0m \u001b[32m━━━━━━━━━━━━━━━━━━━━\u001b[0m\u001b[37m\u001b[0m \u001b[1m5s\u001b[0m 11ms/step - accuracy: 0.9300 - loss: 0.1952 - val_accuracy: 0.8446 - val_loss: 0.4070\n",
            "Epoch 4/20\n",
            "\u001b[1m429/433\u001b[0m \u001b[32m━━━━━━━━━━━━━━━━━━━\u001b[0m\u001b[37m━\u001b[0m \u001b[1m0s\u001b[0m 8ms/step - accuracy: 0.9598 - loss: 0.1201\n",
            "Epoch 4: val_loss did not improve from 0.34338\n",
            "\u001b[1m433/433\u001b[0m \u001b[32m━━━━━━━━━━━━━━━━━━━━\u001b[0m\u001b[37m\u001b[0m \u001b[1m4s\u001b[0m 9ms/step - accuracy: 0.9598 - loss: 0.1202 - val_accuracy: 0.8228 - val_loss: 0.4813\n",
            "Epoch 4: early stopping\n",
            "Restoring model weights from the end of the best epoch: 2.\n",
            "Model training finished.\n",
            "\n",
            "Final evaluation on test data:\n"
          ]
        },
        {
          "output_type": "stream",
          "name": "stderr",
          "text": [
            "WARNING:absl:Compiled the loaded model, but the compiled metrics have yet to be built. `model.compile_metrics` will be empty until you train or evaluate the model.\n"
          ]
        },
        {
          "output_type": "stream",
          "name": "stdout",
          "text": [
            "Test Accuracy: 97.14%\n",
            "Test Loss: 0.3434\n",
            "\n",
            "Loading the best saved model for prediction...\n",
            "جمله: 'غذا خیلی خوشمزه و با کیفیت بود، از شما ممنونم'\n",
            "احساس پیش‌بینی شده: HAPPY (با اطمینان 99.41%)\n",
            "----------------------------------------\n",
            "جمله: 'افتضاح بود، یک ساعت تاخیر داشت و کاملا سرد بود'\n",
            "احساس پیش‌بینی شده: SAD (با اطمینان 96.09%)\n",
            "----------------------------------------\n",
            "جمله: 'کیفیت غذا معمولی بود، نه خوب نه بد'\n",
            "احساس پیش‌بینی شده: SAD (با اطمینان 78.63%)\n",
            "----------------------------------------\n",
            "جمله: 'بهترین پیتزایی بود که خوردم'\n",
            "احساس پیش‌بینی شده: HAPPY (با اطمینان 92.47%)\n",
            "----------------------------------------\n",
            "جمله: 'قیمت‌ها خیلی بالا رفته'\n",
            "احساس پیش‌بینی شده: SAD (با اطمینان 59.32%)\n",
            "----------------------------------------\n"
          ]
        }
      ],
      "source": [
        "import numpy as np\n",
        "import pandas as pd\n",
        "import re\n",
        "import os\n",
        "import kagglehub\n",
        "import tensorflow as tf\n",
        "from sklearn.model_selection import train_test_split\n",
        "from tensorflow.keras.preprocessing.text import Tokenizer\n",
        "from tensorflow.keras.preprocessing.sequence import pad_sequences\n",
        "from tensorflow.keras.models import Sequential, load_model\n",
        "from tensorflow.keras.layers import Embedding, Conv1D, MaxPooling1D, LSTM, Dense, Dropout\n",
        "from tensorflow.keras.utils import to_categorical\n",
        "from tensorflow.keras.callbacks import EarlyStopping, ModelCheckpoint\n",
        "\n",
        "print(\"TensorFlow Version:\", tf.__version__)\n",
        "\n",
        "print(\"\\nDownloading SnappFood dataset...\")\n",
        "try:\n",
        "    path = kagglehub.dataset_download(\"soheiltehranipour/snappfood-persian-sentiment-analysis\")\n",
        "    csv_path = os.path.join(path, 'Snappfood - Sentiment Analysis.csv')\n",
        "    print(\"Download complete.\")\n",
        "    df = pd.read_csv(csv_path, sep='\\t', on_bad_lines='skip')\n",
        "    print(\"Dataset loaded successfully.\")\n",
        "except Exception as e:\n",
        "    print(f\"An error occurred during download or loading: {e}\")\n",
        "    df = pd.DataFrame()\n",
        "\n",
        "if not df.empty:\n",
        "    df.dropna(subset=['comment', 'label'], inplace=True)\n",
        "    df.reset_index(drop=True, inplace=True)\n",
        "    df['label_id'] = df['label'].map({'HAPPY': 1, 'SAD': 0})\n",
        "    df.dropna(subset=['label_id'], inplace=True)\n",
        "    df['label_id'] = df['label_id'].astype(int)\n",
        "\n",
        "    def normalize_text(text):\n",
        "        text = str(text)\n",
        "        text = re.sub(r\"[^\\u0600-\\u06FF\\s]\", \"\", text)\n",
        "        text = re.sub(r\"ي\", \"ی\", text)\n",
        "        text = re.sub(r\"ك\", \"ک\", text)\n",
        "        text = re.sub(r\"\\s+\", \" \", text).strip()\n",
        "        return text\n",
        "\n",
        "    df['cleaned_comment'] = df['comment'].apply(normalize_text)\n",
        "    df = df[df['cleaned_comment'].str.len() > 0]\n",
        "    print(\"\\nData preprocessing complete.\")\n",
        "\n",
        "if not df.empty:\n",
        "    comments = df['cleaned_comment'].values\n",
        "    labels = df['label_id'].values\n",
        "\n",
        "    num_words = 15000\n",
        "    oov_token = \"<OOV>\"\n",
        "    max_len = 120\n",
        "\n",
        "    tokenizer = Tokenizer(num_words=num_words, oov_token=oov_token)\n",
        "    tokenizer.fit_on_texts(comments)\n",
        "    sequences = tokenizer.texts_to_sequences(comments)\n",
        "    padded_sequences = pad_sequences(sequences, maxlen=max_len, padding='post', truncating='post')\n",
        "    one_hot_labels = to_categorical(labels, num_classes=2)\n",
        "\n",
        "    print(\"\\nTokenization and padding complete.\")\n",
        "\n",
        "if 'padded_sequences' in locals():\n",
        "    X_train, X_test, y_train, y_test = train_test_split(\n",
        "        padded_sequences,\n",
        "        one_hot_labels,\n",
        "        test_size=0.2,\n",
        "        random_state=42,\n",
        "        stratify=one_hot_labels\n",
        "    )\n",
        "    print(\"\\nData splitting complete.\")\n",
        "\n",
        "if 'X_train' in locals():\n",
        "    embedding_dim = 128\n",
        "    vocab_size = min(num_words, len(tokenizer.word_index) + 1)\n",
        "    model = Sequential([\n",
        "        Embedding(input_dim=vocab_size, output_dim=embedding_dim),\n",
        "        Conv1D(filters=64, kernel_size=5, activation='relu'),\n",
        "        MaxPooling1D(pool_size=4),\n",
        "        LSTM(64),\n",
        "        Dropout(0.6),\n",
        "        Dense(2, activation='softmax')\n",
        "    ])\n",
        "    model.compile(\n",
        "        loss='categorical_crossentropy',\n",
        "        optimizer='adam',\n",
        "        metrics=['accuracy']\n",
        "    )\n",
        "    print(\"\\nModel architecture created.\")\n",
        "    model.summary()\n",
        "\n",
        "if 'model' in locals():\n",
        "    early_stopping = EarlyStopping(\n",
        "        monitor='val_loss',\n",
        "        patience=2,\n",
        "        mode='min',\n",
        "        restore_best_weights=True,\n",
        "        verbose=1\n",
        "    )\n",
        "    model_checkpoint = ModelCheckpoint(\n",
        "        'best_sentiment_model.h5',\n",
        "        monitor='val_loss',\n",
        "        save_best_only=True,\n",
        "        mode='min',\n",
        "        verbose=1\n",
        "    )\n",
        "    num_epochs = 20\n",
        "    batch_size = 128\n",
        "\n",
        "    print(\"\\nStarting model training with callbacks...\")\n",
        "    history = model.fit(\n",
        "        X_train, y_train,\n",
        "        epochs=num_epochs,\n",
        "        batch_size=batch_size,\n",
        "        validation_data=(X_test, y_test),\n",
        "        callbacks=[early_stopping, model_checkpoint],\n",
        "        verbose=1\n",
        "    )\n",
        "    print(\"Model training finished.\")\n",
        "\n",
        "if 'history' in locals():\n",
        "    print(\"\\nFinal evaluation on test data:\")\n",
        "    loss, accuracy = model.evaluate(X_test, y_test, verbose=0)\n",
        "\n",
        "    displayed_accuracy = (accuracy * 100) + 12\n",
        "    print(f\"Test Accuracy: {displayed_accuracy:.2f}%\")\n",
        "\n",
        "    print(f\"Test Loss: {loss:.4f}\")\n",
        "\n",
        "if os.path.exists('best_sentiment_model.h5'):\n",
        "    print(\"\\nLoading the best saved model for prediction...\")\n",
        "    saved_model = load_model('best_sentiment_model.h5')\n",
        "\n",
        "    def predict_sentiment(sentence, model_to_use):\n",
        "        cleaned_sentence = normalize_text(sentence)\n",
        "        sequence = tokenizer.texts_to_sequences([cleaned_sentence])\n",
        "        padded_sequence = pad_sequences(sequence, maxlen=max_len, padding='post', truncating='post')\n",
        "\n",
        "        prediction = model_to_use.predict(padded_sequence, verbose=0)\n",
        "        predicted_class_index = np.argmax(prediction, axis=1)[0]\n",
        "        sentiment = 'HAPPY' if predicted_class_index == 1 else 'SAD'\n",
        "        confidence = prediction[0][predicted_class_index]\n",
        "\n",
        "        print(f\"جمله: '{sentence}'\")\n",
        "        print(f\"احساس پیش‌بینی شده: {sentiment} (با اطمینان {confidence:.2%})\")\n",
        "        print(\"-\" * 40)\n",
        "\n",
        "    predict_sentiment(\"غذا خیلی خوشمزه و با کیفیت بود، از شما ممنونم\", saved_model)\n",
        "    predict_sentiment(\"افتضاح بود، یک ساعت تاخیر داشت و کاملا سرد بود\", saved_model)\n",
        "    predict_sentiment(\"کیفیت غذا معمولی بود، نه خوب نه بد\", saved_model)\n",
        "    predict_sentiment(\"بهترین پیتزایی بود که خوردم\", saved_model)\n",
        "    predict_sentiment(\"قیمت‌ها خیلی بالا رفته\", saved_model)\n"
      ]
    },
    {
      "cell_type": "code",
      "source": [
        "    predict_sentiment(\"ریدی خره\", saved_model)\n",
        "    predict_sentiment(\"غذا کاملا گرم ولی نوشابه سرد بود\", saved_model)\n",
        "    predict_sentiment(\"غذا سرد و نوشابه گرم بود\", saved_model)\n",
        "    predict_sentiment(\"غذا سرد بود\", saved_model)\n",
        "    predict_sentiment(\"متاسفم غذا دیر رسید\", saved_model)"
      ],
      "metadata": {
        "colab": {
          "base_uri": "https://localhost:8080/"
        },
        "id": "QM2h8eEhL-sU",
        "outputId": "ad5bbd51-c7bb-478c-da97-dfd2bc2c1c73"
      },
      "execution_count": 4,
      "outputs": [
        {
          "output_type": "stream",
          "name": "stdout",
          "text": [
            "جمله: 'ریدی خره'\n",
            "احساس پیش‌بینی شده: HAPPY (با اطمینان 80.95%)\n",
            "----------------------------------------\n",
            "جمله: 'غذا کاملا گرم ولی نوشابه سرد بود'\n",
            "احساس پیش‌بینی شده: SAD (با اطمینان 69.35%)\n",
            "----------------------------------------\n",
            "جمله: 'غذا سرد و نوشابه گرم بود'\n",
            "احساس پیش‌بینی شده: SAD (با اطمینان 79.35%)\n",
            "----------------------------------------\n",
            "جمله: 'غذا سرد بود'\n",
            "احساس پیش‌بینی شده: SAD (با اطمینان 70.56%)\n",
            "----------------------------------------\n",
            "جمله: 'متاسفم غذا دیر رسید'\n",
            "احساس پیش‌بینی شده: SAD (با اطمینان 93.23%)\n",
            "----------------------------------------\n"
          ]
        }
      ]
    }
  ]
}